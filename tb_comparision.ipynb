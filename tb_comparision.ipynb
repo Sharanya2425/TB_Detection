{
  "cells": [
    {
      "cell_type": "markdown",
      "id": "28ab8117",
      "metadata": {
        "id": "28ab8117"
      },
      "source": [
        "<div style=\"color: black; font-family: 'Times New Roman', serif; text-transform: uppercase; font-weight: bold; font-size: 24px; word-spacing: 10px;\">\n",
        "Mycobacterium Tuberculosis Detection Using CNN\n",
        "</div>"
      ]
    },
    {
      "cell_type": "code",
      "source": [
        "from google.colab import drive\n",
        "drive.mount('/content/drive')"
      ],
      "metadata": {
        "colab": {
          "base_uri": "https://localhost:8080/"
        },
        "id": "5j5LWS3bWd9Q",
        "outputId": "e2e7003c-8f3b-410b-afa2-2535eb62a439"
      },
      "id": "5j5LWS3bWd9Q",
      "execution_count": null,
      "outputs": [
        {
          "output_type": "stream",
          "name": "stdout",
          "text": [
            "Mounted at /content/drive\n"
          ]
        }
      ]
    },
    {
      "cell_type": "code",
      "execution_count": null,
      "id": "1a2e87ba",
      "metadata": {
        "id": "1a2e87ba"
      },
      "outputs": [],
      "source": [
        "import cv2 as cv\n",
        "import numpy as np\n",
        "from imblearn.over_sampling import SMOTE\n",
        "from sklearn.model_selection import train_test_split\n",
        "import os"
      ]
    },
    {
      "cell_type": "code",
      "execution_count": null,
      "id": "f9a8cb3b",
      "metadata": {
        "id": "f9a8cb3b"
      },
      "outputs": [],
      "source": [
        "normaldir = '/content/drive/MyDrive/Myco/Normal'\n",
        "tbdir = '/content/drive/MyDrive/Myco/Tuberculosis'\n",
        "images = []\n",
        "labels = []\n",
        "imagesize = 256"
      ]
    },
    {
      "cell_type": "code",
      "execution_count": null,
      "id": "cbd03887",
      "metadata": {
        "id": "cbd03887"
      },
      "outputs": [],
      "source": [
        "for x in os.listdir(normaldir):\n",
        "    imagedir = os.path.join(normaldir, x)\n",
        "    image = cv.imread(imagedir, cv.IMREAD_GRAYSCALE)\n",
        "    image = cv.resize(image, (imagesize, imagesize))\n",
        "    images.append(image)\n",
        "    labels.append(0)\n",
        "\n",
        "for y in os.listdir(tbdir):\n",
        "    imagedir = os.path.join(tbdir, y)\n",
        "    image = cv.imread(imagedir, cv.IMREAD_GRAYSCALE)\n",
        "    image = cv.resize(image, (imagesize, imagesize))\n",
        "    images.append(image)\n",
        "    labels.append(1)"
      ]
    },
    {
      "cell_type": "code",
      "execution_count": null,
      "id": "c3d62d30",
      "metadata": {
        "id": "c3d62d30"
      },
      "outputs": [],
      "source": [
        "images = np.array(images)\n",
        "labels = np.array(labels)\n",
        "\n",
        "#Splitting the images and labels into training and testing sets, then normalizing the values within them for computational efficiency (from 0-255 scale to 0-1 scale)\n",
        "imagetrain, imagetest, labeltrain, labeltest = train_test_split(images, labels, test_size=0.3, random_state=42)\n",
        "imagetrain = (imagetrain.astype('float32'))/255\n",
        "imagetest = (imagetest.astype('float32'))/255"
      ]
    },
    {
      "cell_type": "code",
      "source": [
        "print(imagetrain.shape)  # This will give you the current shape\n"
      ],
      "metadata": {
        "colab": {
          "base_uri": "https://localhost:8080/"
        },
        "id": "4zqvp9f5ZpEU",
        "outputId": "851e522c-2b77-4527-e7c5-53b31ebaeee3"
      },
      "id": "4zqvp9f5ZpEU",
      "execution_count": null,
      "outputs": [
        {
          "output_type": "stream",
          "name": "stdout",
          "text": [
            "(354, 256, 256)\n"
          ]
        }
      ]
    },
    {
      "cell_type": "code",
      "source": [
        "import numpy as np\n",
        "from imblearn.over_sampling import SMOTE\n",
        "\n",
        "# Example shape\n",
        "imagetrain = np.random.rand(354, 256, 256)  # Replace with your actual data\n",
        "labeltrain = np.random.randint(0, 2, 354)  # Example labels (binary)\n",
        "\n",
        "# Flatten the images\n",
        "imagetrain = imagetrain.reshape(354, 256 * 256)\n",
        "\n",
        "# Apply SMOTE\n",
        "smote = SMOTE(random_state=42)\n",
        "imagetrain, labeltrain = smote.fit_resample(imagetrain, labeltrain)\n",
        "\n",
        "# Reshape back to original image dimensions\n",
        "imagetrain = imagetrain.reshape(-1, 256, 256, 1)\n",
        "\n",
        "# Convert grayscale images to RGB for models\n",
        "imagetrain = np.repeat(imagetrain, 3, axis=-1)\n",
        "\n",
        "# Print the final shape\n",
        "print(imagetrain.shape)  # Should reflect the new shape after processing\n"
      ],
      "metadata": {
        "colab": {
          "base_uri": "https://localhost:8080/"
        },
        "id": "CW8arnlnZhId",
        "outputId": "acb48d7c-bfc0-4bb1-f531-a4ccb7b8c5d2"
      },
      "id": "CW8arnlnZhId",
      "execution_count": null,
      "outputs": [
        {
          "output_type": "stream",
          "name": "stdout",
          "text": [
            "(378, 256, 256, 3)\n"
          ]
        }
      ]
    },
    {
      "cell_type": "code",
      "execution_count": null,
      "id": "ab7964cc",
      "metadata": {
        "colab": {
          "base_uri": "https://localhost:8080/"
        },
        "id": "ab7964cc",
        "outputId": "c86010a3-75b5-4344-c1e2-58b94123df59"
      },
      "outputs": [
        {
          "output_type": "stream",
          "name": "stdout",
          "text": [
            "(array([0, 1]), array([189, 189]))\n"
          ]
        }
      ],
      "source": [
        "print(np.unique(labeltrain, return_counts=True))"
      ]
    },
    {
      "cell_type": "markdown",
      "id": "074740cf",
      "metadata": {
        "id": "074740cf"
      },
      "source": [
        "## CNN"
      ]
    },
    {
      "cell_type": "code",
      "source": [
        "import numpy as np\n",
        "from keras import layers, models\n",
        "from keras.callbacks import ReduceLROnPlateau\n",
        "\n",
        "# Assuming imagetrain and labeltrain are already defined\n",
        "\n",
        "# Check shapes\n",
        "print(\"Image shape:\", imagetrain.shape)  # Expected: (378, 256, 256, 3)\n",
        "print(\"Label shape:\", labeltrain.shape)   # Expected: (378,)\n",
        "\n",
        "# Define the CNN model for RGB images\n",
        "cnn = models.Sequential([\n",
        "    layers.Input(shape=(256, 256, 3)),  # Now accepting RGB input\n",
        "    layers.Conv2D(16, (3, 3), activation='relu'),\n",
        "    layers.MaxPooling2D((2, 2)),\n",
        "    layers.Conv2D(32, (3, 3), activation='relu'),\n",
        "    layers.MaxPooling2D((2, 2)),\n",
        "    layers.Conv2D(64, (3, 3), activation='relu'),\n",
        "    layers.MaxPooling2D((2, 2)),\n",
        "    layers.Flatten(),\n",
        "    layers.Dense(64, activation='relu'),\n",
        "    layers.Dropout(0.5),\n",
        "    layers.Dense(1, activation='sigmoid')\n",
        "])\n",
        "\n",
        "# Compile the model\n",
        "cnn.compile(\n",
        "    loss='binary_crossentropy',\n",
        "    optimizer=keras.optimizers.Adam(learning_rate=0.001),\n",
        "    metrics=['accuracy']\n",
        ")\n",
        "\n",
        "# Set up the learning rate reduction callback\n",
        "reduce_lr = ReduceLROnPlateau(monitor='accuracy', factor=0.1, patience=1, min_lr=0.00001, verbose=1)\n",
        "\n",
        "# Fit the model\n",
        "cnn.fit(imagetrain, labeltrain, batch_size=16, epochs=10, verbose=2, callbacks=[reduce_lr])\n"
      ],
      "metadata": {
        "colab": {
          "base_uri": "https://localhost:8080/"
        },
        "id": "7s8lxoD0aN6K",
        "outputId": "b2353b09-9604-4de8-ebcc-6197666826c3"
      },
      "id": "7s8lxoD0aN6K",
      "execution_count": null,
      "outputs": [
        {
          "output_type": "stream",
          "name": "stdout",
          "text": [
            "Image shape: (378, 256, 256, 3)\n",
            "Label shape: (378,)\n",
            "Epoch 1/10\n",
            "24/24 - 12s - 483ms/step - accuracy: 0.4683 - loss: 0.8467 - learning_rate: 0.0010\n",
            "Epoch 2/10\n",
            "24/24 - 0s - 19ms/step - accuracy: 0.5053 - loss: 0.6931 - learning_rate: 0.0010\n",
            "Epoch 3/10\n",
            "24/24 - 0s - 18ms/step - accuracy: 0.5132 - loss: 0.6945 - learning_rate: 0.0010\n",
            "Epoch 4/10\n",
            "\n",
            "Epoch 4: ReduceLROnPlateau reducing learning rate to 0.00010000000474974513.\n",
            "24/24 - 1s - 26ms/step - accuracy: 0.5079 - loss: 0.6932 - learning_rate: 0.0010\n",
            "Epoch 5/10\n",
            "24/24 - 0s - 18ms/step - accuracy: 0.5397 - loss: 0.6925 - learning_rate: 1.0000e-04\n",
            "Epoch 6/10\n",
            "24/24 - 0s - 19ms/step - accuracy: 0.5608 - loss: 0.6902 - learning_rate: 1.0000e-04\n",
            "Epoch 7/10\n",
            "\n",
            "Epoch 7: ReduceLROnPlateau reducing learning rate to 1.0000000474974514e-05.\n",
            "24/24 - 1s - 26ms/step - accuracy: 0.5370 - loss: 0.6925 - learning_rate: 1.0000e-04\n",
            "Epoch 8/10\n",
            "24/24 - 0s - 18ms/step - accuracy: 0.5794 - loss: 0.6910 - learning_rate: 1.0000e-05\n",
            "Epoch 9/10\n",
            "\n",
            "Epoch 9: ReduceLROnPlateau reducing learning rate to 1e-05.\n",
            "24/24 - 1s - 26ms/step - accuracy: 0.5450 - loss: 0.6897 - learning_rate: 1.0000e-05\n",
            "Epoch 10/10\n",
            "24/24 - 0s - 18ms/step - accuracy: 0.5714 - loss: 0.6905 - learning_rate: 1.0000e-05\n"
          ]
        },
        {
          "output_type": "execute_result",
          "data": {
            "text/plain": [
              "<keras.src.callbacks.history.History at 0x798b079d6c50>"
            ]
          },
          "metadata": {},
          "execution_count": 17
        }
      ]
    },
    {
      "cell_type": "markdown",
      "source": [
        "**InceptionV3**"
      ],
      "metadata": {
        "id": "H3hQyI4cbGMV"
      },
      "id": "H3hQyI4cbGMV"
    },
    {
      "cell_type": "code",
      "source": [
        "from keras.applications import InceptionV3\n",
        "from keras import layers, models\n",
        "\n",
        "# Load the InceptionV3 model with pre-trained weights\n",
        "base_model = InceptionV3(weights='imagenet', include_top=False, input_shape=(256, 256, 3))\n",
        "\n",
        "# Freeze the base model\n",
        "base_model.trainable = False\n",
        "\n",
        "# Create the new model\n",
        "inception_model = models.Sequential([\n",
        "    base_model,\n",
        "    layers.GlobalAveragePooling2D(),\n",
        "    layers.Dense(64, activation='relu'),\n",
        "    layers.Dropout(0.5),\n",
        "    layers.Dense(1, activation='sigmoid')\n",
        "])\n",
        "\n",
        "# Compile the model\n",
        "inception_model.compile(\n",
        "    loss='binary_crossentropy',\n",
        "    optimizer=keras.optimizers.Adam(learning_rate=0.001),\n",
        "    metrics=['accuracy']\n",
        ")\n",
        "\n",
        "# Fit the model\n",
        "inception_model.fit(imagetrain, labeltrain, batch_size=16, epochs=10, verbose=2, callbacks=[reduce_lr])\n"
      ],
      "metadata": {
        "colab": {
          "base_uri": "https://localhost:8080/"
        },
        "id": "xIISFVTPaxot",
        "outputId": "8e37132b-0d0a-47b3-ec1a-106a08887b9a"
      },
      "id": "xIISFVTPaxot",
      "execution_count": null,
      "outputs": [
        {
          "output_type": "stream",
          "name": "stdout",
          "text": [
            "Downloading data from https://storage.googleapis.com/tensorflow/keras-applications/inception_v3/inception_v3_weights_tf_dim_ordering_tf_kernels_notop.h5\n",
            "\u001b[1m87910968/87910968\u001b[0m \u001b[32m━━━━━━━━━━━━━━━━━━━━\u001b[0m\u001b[37m\u001b[0m \u001b[1m1s\u001b[0m 0us/step\n",
            "Epoch 1/10\n",
            "24/24 - 31s - 1s/step - accuracy: 0.4841 - loss: 0.7732 - learning_rate: 0.0010\n",
            "Epoch 2/10\n",
            "24/24 - 20s - 814ms/step - accuracy: 0.5397 - loss: 0.7089 - learning_rate: 0.0010\n",
            "Epoch 3/10\n",
            "\n",
            "Epoch 3: ReduceLROnPlateau reducing learning rate to 0.00010000000474974513.\n",
            "24/24 - 1s - 47ms/step - accuracy: 0.5238 - loss: 0.6929 - learning_rate: 0.0010\n",
            "Epoch 4/10\n",
            "24/24 - 1s - 46ms/step - accuracy: 0.5503 - loss: 0.6806 - learning_rate: 1.0000e-04\n",
            "Epoch 5/10\n",
            "\n",
            "Epoch 5: ReduceLROnPlateau reducing learning rate to 1.0000000474974514e-05.\n",
            "24/24 - 1s - 43ms/step - accuracy: 0.5238 - loss: 0.6913 - learning_rate: 1.0000e-04\n",
            "Epoch 6/10\n",
            "24/24 - 1s - 44ms/step - accuracy: 0.5556 - loss: 0.6870 - learning_rate: 1.0000e-05\n",
            "Epoch 7/10\n",
            "\n",
            "Epoch 7: ReduceLROnPlateau reducing learning rate to 1e-05.\n",
            "24/24 - 1s - 44ms/step - accuracy: 0.5503 - loss: 0.6873 - learning_rate: 1.0000e-05\n",
            "Epoch 8/10\n",
            "24/24 - 1s - 44ms/step - accuracy: 0.5238 - loss: 0.6891 - learning_rate: 1.0000e-05\n",
            "Epoch 9/10\n",
            "24/24 - 1s - 53ms/step - accuracy: 0.5291 - loss: 0.6902 - learning_rate: 1.0000e-05\n",
            "Epoch 10/10\n",
            "24/24 - 1s - 53ms/step - accuracy: 0.5556 - loss: 0.6848 - learning_rate: 1.0000e-05\n"
          ]
        },
        {
          "output_type": "execute_result",
          "data": {
            "text/plain": [
              "<keras.src.callbacks.history.History at 0x798b065a2e90>"
            ]
          },
          "metadata": {},
          "execution_count": 18
        }
      ]
    },
    {
      "cell_type": "markdown",
      "source": [
        "**ResNet50**"
      ],
      "metadata": {
        "id": "74oPnlK2bLt0"
      },
      "id": "74oPnlK2bLt0"
    },
    {
      "cell_type": "code",
      "source": [
        "from keras.applications import ResNet50\n",
        "\n",
        "# Load the ResNet50 model with pre-trained weights\n",
        "base_model = ResNet50(weights='imagenet', include_top=False, input_shape=(256, 256, 3))\n",
        "\n",
        "# Freeze the base model\n",
        "base_model.trainable = False\n",
        "\n",
        "# Create the new model\n",
        "resnet_model = models.Sequential([\n",
        "    base_model,\n",
        "    layers.GlobalAveragePooling2D(),\n",
        "    layers.Dense(64, activation='relu'),\n",
        "    layers.Dropout(0.5),\n",
        "    layers.Dense(1, activation='sigmoid')\n",
        "])\n",
        "\n",
        "# Compile the model\n",
        "resnet_model.compile(\n",
        "    loss='binary_crossentropy',\n",
        "    optimizer=keras.optimizers.Adam(learning_rate=0.001),\n",
        "    metrics=['accuracy']\n",
        ")\n",
        "\n",
        "# Fit the model\n",
        "resnet_model.fit(imagetrain, labeltrain, batch_size=16, epochs=10, verbose=2, callbacks=[reduce_lr])\n"
      ],
      "metadata": {
        "colab": {
          "base_uri": "https://localhost:8080/"
        },
        "id": "AgLgrRD9a0I3",
        "outputId": "47637e1a-3636-4e11-b893-09c82f869fd0"
      },
      "id": "AgLgrRD9a0I3",
      "execution_count": null,
      "outputs": [
        {
          "output_type": "stream",
          "name": "stdout",
          "text": [
            "Epoch 1/10\n",
            "24/24 - 20s - 837ms/step - accuracy: 0.4921 - loss: 0.7968 - learning_rate: 0.0010\n",
            "Epoch 2/10\n",
            "24/24 - 8s - 340ms/step - accuracy: 0.5212 - loss: 0.6956 - learning_rate: 0.0010\n",
            "Epoch 3/10\n",
            "24/24 - 1s - 55ms/step - accuracy: 0.5476 - loss: 0.6955 - learning_rate: 0.0010\n",
            "Epoch 4/10\n",
            "\n",
            "Epoch 4: ReduceLROnPlateau reducing learning rate to 0.00010000000474974513.\n",
            "24/24 - 2s - 102ms/step - accuracy: 0.5476 - loss: 0.6916 - learning_rate: 0.0010\n",
            "Epoch 5/10\n",
            "\n",
            "Epoch 5: ReduceLROnPlateau reducing learning rate to 1.0000000474974514e-05.\n",
            "24/24 - 1s - 54ms/step - accuracy: 0.5026 - loss: 0.7006 - learning_rate: 1.0000e-04\n",
            "Epoch 6/10\n",
            "\n",
            "Epoch 6: ReduceLROnPlateau reducing learning rate to 1e-05.\n",
            "24/24 - 1s - 53ms/step - accuracy: 0.4894 - loss: 0.6956 - learning_rate: 1.0000e-05\n",
            "Epoch 7/10\n",
            "24/24 - 1s - 53ms/step - accuracy: 0.5106 - loss: 0.6942 - learning_rate: 1.0000e-05\n",
            "Epoch 8/10\n",
            "24/24 - 1s - 55ms/step - accuracy: 0.4709 - loss: 0.7050 - learning_rate: 1.0000e-05\n",
            "Epoch 9/10\n",
            "24/24 - 1s - 55ms/step - accuracy: 0.5053 - loss: 0.6894 - learning_rate: 1.0000e-05\n",
            "Epoch 10/10\n",
            "24/24 - 3s - 105ms/step - accuracy: 0.5159 - loss: 0.6925 - learning_rate: 1.0000e-05\n"
          ]
        },
        {
          "output_type": "execute_result",
          "data": {
            "text/plain": [
              "<keras.src.callbacks.history.History at 0x798a90396e00>"
            ]
          },
          "metadata": {},
          "execution_count": 19
        }
      ]
    },
    {
      "cell_type": "markdown",
      "source": [
        "**Xception**"
      ],
      "metadata": {
        "id": "9uX-I-yRbSAi"
      },
      "id": "9uX-I-yRbSAi"
    },
    {
      "cell_type": "code",
      "source": [
        "from keras.applications import Xception\n",
        "\n",
        "# Load the Xception model with pre-trained weights\n",
        "base_model = Xception(weights='imagenet', include_top=False, input_shape=(256, 256, 3))\n",
        "\n",
        "# Freeze the base model\n",
        "base_model.trainable = False\n",
        "\n",
        "# Create the new model\n",
        "xception_model = models.Sequential([\n",
        "    base_model,\n",
        "    layers.GlobalAveragePooling2D(),\n",
        "    layers.Dense(64, activation='relu'),\n",
        "    layers.Dropout(0.5),\n",
        "    layers.Dense(1, activation='sigmoid')\n",
        "])\n",
        "\n",
        "# Compile the model\n",
        "xception_model.compile(\n",
        "    loss='binary_crossentropy',\n",
        "    optimizer=keras.optimizers.Adam(learning_rate=0.001),\n",
        "    metrics=['accuracy']\n",
        ")\n",
        "\n",
        "# Fit the model\n",
        "xception_model.fit(imagetrain, labeltrain, batch_size=16, epochs=10, verbose=2, callbacks=[reduce_lr])\n"
      ],
      "metadata": {
        "colab": {
          "base_uri": "https://localhost:8080/"
        },
        "id": "zdJnQTvha2R5",
        "outputId": "258a7a71-d2e7-4ec7-fe19-8df688349517"
      },
      "id": "zdJnQTvha2R5",
      "execution_count": null,
      "outputs": [
        {
          "output_type": "stream",
          "name": "stdout",
          "text": [
            "Downloading data from https://storage.googleapis.com/tensorflow/keras-applications/xception/xception_weights_tf_dim_ordering_tf_kernels_notop.h5\n",
            "\u001b[1m83683744/83683744\u001b[0m \u001b[32m━━━━━━━━━━━━━━━━━━━━\u001b[0m\u001b[37m\u001b[0m \u001b[1m1s\u001b[0m 0us/step\n",
            "Epoch 1/10\n",
            "24/24 - 24s - 981ms/step - accuracy: 0.5476 - loss: 0.6913 - learning_rate: 0.0010\n",
            "Epoch 2/10\n",
            "\n",
            "Epoch 2: ReduceLROnPlateau reducing learning rate to 0.00010000000474974513.\n",
            "24/24 - 2s - 72ms/step - accuracy: 0.5106 - loss: 0.7071 - learning_rate: 0.0010\n",
            "Epoch 3/10\n",
            "\n",
            "Epoch 3: ReduceLROnPlateau reducing learning rate to 1.0000000474974514e-05.\n",
            "24/24 - 2s - 73ms/step - accuracy: 0.5079 - loss: 0.6986 - learning_rate: 1.0000e-04\n",
            "Epoch 4/10\n",
            "\n",
            "Epoch 4: ReduceLROnPlateau reducing learning rate to 1e-05.\n",
            "24/24 - 2s - 73ms/step - accuracy: 0.5238 - loss: 0.6887 - learning_rate: 1.0000e-05\n",
            "Epoch 5/10\n",
            "24/24 - 3s - 106ms/step - accuracy: 0.4841 - loss: 0.7034 - learning_rate: 1.0000e-05\n",
            "Epoch 6/10\n",
            "24/24 - 2s - 76ms/step - accuracy: 0.5317 - loss: 0.6948 - learning_rate: 1.0000e-05\n",
            "Epoch 7/10\n",
            "24/24 - 2s - 104ms/step - accuracy: 0.5238 - loss: 0.6960 - learning_rate: 1.0000e-05\n",
            "Epoch 8/10\n",
            "24/24 - 2s - 73ms/step - accuracy: 0.5026 - loss: 0.7016 - learning_rate: 1.0000e-05\n",
            "Epoch 9/10\n",
            "24/24 - 2s - 73ms/step - accuracy: 0.5397 - loss: 0.6892 - learning_rate: 1.0000e-05\n",
            "Epoch 10/10\n",
            "24/24 - 3s - 106ms/step - accuracy: 0.5079 - loss: 0.7028 - learning_rate: 1.0000e-05\n"
          ]
        },
        {
          "output_type": "execute_result",
          "data": {
            "text/plain": [
              "<keras.src.callbacks.history.History at 0x798b08946e60>"
            ]
          },
          "metadata": {},
          "execution_count": 20
        }
      ]
    },
    {
      "cell_type": "code",
      "execution_count": null,
      "id": "d29ffc94",
      "metadata": {
        "colab": {
          "base_uri": "https://localhost:8080/"
        },
        "id": "d29ffc94",
        "outputId": "caa6af6f-0296-4259-8cdc-c3dc0ecbe854"
      },
      "outputs": [
        {
          "output_type": "stream",
          "name": "stdout",
          "text": [
            "Downloading data from https://storage.googleapis.com/tensorflow/keras-applications/mobilenet_v2/mobilenet_v2_weights_tf_dim_ordering_tf_kernels_1.0_224_no_top.h5\n",
            "\u001b[1m9406464/9406464\u001b[0m \u001b[32m━━━━━━━━━━━━━━━━━━━━\u001b[0m\u001b[37m\u001b[0m \u001b[1m0s\u001b[0m 0us/step\n",
            "Epoch 1/10\n"
          ]
        },
        {
          "output_type": "stream",
          "name": "stderr",
          "text": [
            "/usr/local/lib/python3.10/dist-packages/keras/src/trainers/data_adapters/py_dataset_adapter.py:121: UserWarning: Your `PyDataset` class should call `super().__init__(**kwargs)` in its constructor. `**kwargs` can include `workers`, `use_multiprocessing`, `max_queue_size`. Do not pass these arguments to `fit()`, as they will be ignored.\n",
            "  self._warn_if_super_not_called()\n"
          ]
        },
        {
          "output_type": "stream",
          "name": "stdout",
          "text": [
            "23/23 - 14s - 595ms/step - accuracy: 0.5028 - loss: 6.6912 - learning_rate: 0.0010\n",
            "Epoch 2/10\n",
            "\n",
            "Epoch 2: ReduceLROnPlateau reducing learning rate to 0.00010000000474974513.\n",
            "23/23 - 2s - 95ms/step - accuracy: 0.5000 - loss: 0.7301 - learning_rate: 0.0010\n",
            "Epoch 3/10\n",
            "\n",
            "Epoch 3: ReduceLROnPlateau reducing learning rate to 1.0000000474974514e-05.\n",
            "23/23 - 1s - 58ms/step - accuracy: 0.5000 - loss: 0.6932 - learning_rate: 1.0000e-04\n",
            "Epoch 4/10\n",
            "\n",
            "Epoch 4: ReduceLROnPlateau reducing learning rate to 1e-05.\n",
            "23/23 - 1s - 32ms/step - accuracy: 0.5000 - loss: 0.6931 - learning_rate: 1.0000e-05\n",
            "Epoch 5/10\n",
            "23/23 - 1s - 31ms/step - accuracy: 0.5000 - loss: 0.6931 - learning_rate: 1.0000e-05\n",
            "Epoch 6/10\n",
            "23/23 - 1s - 61ms/step - accuracy: 0.5000 - loss: 0.6931 - learning_rate: 1.0000e-05\n",
            "Epoch 7/10\n",
            "23/23 - 1s - 50ms/step - accuracy: 0.5000 - loss: 0.6931 - learning_rate: 1.0000e-05\n",
            "Epoch 8/10\n",
            "23/23 - 1s - 54ms/step - accuracy: 0.5000 - loss: 0.6931 - learning_rate: 1.0000e-05\n",
            "Epoch 9/10\n",
            "23/23 - 1s - 28ms/step - accuracy: 0.5000 - loss: 0.6931 - learning_rate: 1.0000e-05\n",
            "Epoch 10/10\n",
            "23/23 - 1s - 47ms/step - accuracy: 0.5000 - loss: 0.6931 - learning_rate: 1.0000e-05\n",
            "TESTING DATA:\n",
            "10/10 - 6s - 554ms/step - accuracy: 0.5000 - loss: 0.6931\n",
            "ADVANCED TESTING METRICS:\n",
            "\u001b[1m10/10\u001b[0m \u001b[32m━━━━━━━━━━━━━━━━━━━━\u001b[0m\u001b[37m\u001b[0m \u001b[1m6s\u001b[0m 413ms/step\n",
            "              precision    recall  f1-score   support\n",
            "\n",
            "           0       0.00      0.00      0.00        76\n",
            "           1       0.50      1.00      0.67        76\n",
            "\n",
            "    accuracy                           0.50       152\n",
            "   macro avg       0.25      0.50      0.33       152\n",
            "weighted avg       0.25      0.50      0.33       152\n",
            "\n",
            "[[ 0 76]\n",
            " [ 0 76]]\n"
          ]
        },
        {
          "output_type": "stream",
          "name": "stderr",
          "text": [
            "/usr/local/lib/python3.10/dist-packages/sklearn/metrics/_classification.py:1471: UndefinedMetricWarning: Precision and F-score are ill-defined and being set to 0.0 in labels with no predicted samples. Use `zero_division` parameter to control this behavior.\n",
            "  _warn_prf(average, modifier, msg_start, len(result))\n",
            "/usr/local/lib/python3.10/dist-packages/sklearn/metrics/_classification.py:1471: UndefinedMetricWarning: Precision and F-score are ill-defined and being set to 0.0 in labels with no predicted samples. Use `zero_division` parameter to control this behavior.\n",
            "  _warn_prf(average, modifier, msg_start, len(result))\n",
            "/usr/local/lib/python3.10/dist-packages/sklearn/metrics/_classification.py:1471: UndefinedMetricWarning: Precision and F-score are ill-defined and being set to 0.0 in labels with no predicted samples. Use `zero_division` parameter to control this behavior.\n",
            "  _warn_prf(average, modifier, msg_start, len(result))\n"
          ]
        }
      ],
      "source": [
        "import cv2 as cv\n",
        "import numpy as np\n",
        "from imblearn.over_sampling import SMOTE\n",
        "from sklearn.model_selection import train_test_split\n",
        "import os\n",
        "from tensorflow.keras.applications import MobileNetV2\n",
        "from tensorflow.keras.models import Model\n",
        "from tensorflow.keras.layers import Dense, Dropout, Flatten\n",
        "from tensorflow.keras.optimizers import Adam\n",
        "from tensorflow.keras.callbacks import ReduceLROnPlateau\n",
        "from tensorflow.keras.preprocessing.image import ImageDataGenerator\n",
        "\n",
        "normaldir = '/content/drive/MyDrive/Myco/Normal'\n",
        "tbdir = '/content/drive/MyDrive/Myco/Tuberculosis'\n",
        "images = []\n",
        "labels = []\n",
        "imagesize = 224\n",
        "\n",
        "for x in os.listdir(normaldir):\n",
        "    imagedir = os.path.join(normaldir, x)\n",
        "    image = cv.imread(imagedir, cv.IMREAD_GRAYSCALE)\n",
        "    image = cv.resize(image, (imagesize, imagesize))\n",
        "    image = np.expand_dims(image, axis=-1)\n",
        "    images.append(image)\n",
        "    labels.append(0)\n",
        "\n",
        "for y in os.listdir(tbdir):\n",
        "    imagedir = os.path.join(tbdir, y)\n",
        "    image = cv.imread(imagedir, cv.IMREAD_GRAYSCALE)\n",
        "    image = cv.resize(image, (imagesize, imagesize))\n",
        "    image = np.expand_dims(image, axis=-1)\n",
        "    images.append(image)\n",
        "    labels.append(1)\n",
        "\n",
        "images = np.array(images)\n",
        "labels = np.array(labels)\n",
        "\n",
        "imagetrain, imagetest, labeltrain, labeltest = train_test_split(images, labels, test_size=0.3, random_state=42)\n",
        "\n",
        "imagetrain = (imagetrain.astype('float32')) / 255\n",
        "imagetest = (imagetest.astype('float32')) / 255\n",
        "\n",
        "imagetrain_rgb = np.repeat(imagetrain, 3, axis=-1)\n",
        "imagetest_rgb = np.repeat(imagetest, 3, axis=-1)\n",
        "\n",
        "base_model = MobileNetV2(weights='imagenet', include_top=False, input_shape=(imagesize, imagesize, 3))\n",
        "base_model.trainable = False\n",
        "\n",
        "x = base_model.output\n",
        "x = Flatten()(x)\n",
        "x = Dense(64, activation='relu')(x)\n",
        "x = Dropout(0.5)(x)\n",
        "predictions = Dense(1, activation='sigmoid')(x)\n",
        "\n",
        "model = Model(inputs=base_model.input, outputs=predictions)\n",
        "\n",
        "model.compile(\n",
        "    loss='binary_crossentropy',\n",
        "    optimizer=Adam(learning_rate=0.001),\n",
        "    metrics=['accuracy']\n",
        ")\n",
        "\n",
        "reduce_lr = ReduceLROnPlateau(monitor='accuracy', factor=0.1, patience=1, min_lr=0.00001, verbose=1)\n",
        "\n",
        "train_datagen = ImageDataGenerator(rescale=1./255)\n",
        "test_datagen = ImageDataGenerator(rescale=1./255)\n",
        "\n",
        "train_generator = train_datagen.flow(imagetrain_rgb, labeltrain, batch_size=16)\n",
        "test_generator = test_datagen.flow(imagetest_rgb, labeltest, batch_size=16)\n",
        "\n",
        "model.fit(train_generator, epochs=10, verbose=2, callbacks=[reduce_lr])\n",
        "\n",
        "print('TESTING DATA:')\n",
        "model.evaluate(test_generator, verbose=2)\n",
        "\n",
        "print('ADVANCED TESTING METRICS:')\n",
        "from sklearn.metrics import classification_report, confusion_matrix\n",
        "\n",
        "predictions = model.predict(test_generator, batch_size=16)\n",
        "predicted_labels = (predictions > 0.5).astype('int32')\n",
        "\n",
        "print(classification_report(labeltest, predicted_labels))\n",
        "print(confusion_matrix(labeltest, predicted_labels))"
      ]
    },
    {
      "cell_type": "code",
      "execution_count": null,
      "id": "b3058db1",
      "metadata": {
        "id": "b3058db1"
      },
      "outputs": [],
      "source": []
    }
  ],
  "metadata": {
    "kernelspec": {
      "display_name": "Python 3",
      "name": "python3"
    },
    "language_info": {
      "codemirror_mode": {
        "name": "ipython",
        "version": 3
      },
      "file_extension": ".py",
      "mimetype": "text/x-python",
      "name": "python",
      "nbconvert_exporter": "python",
      "pygments_lexer": "ipython3",
      "version": "3.11.5"
    },
    "colab": {
      "provenance": [],
      "gpuType": "T4"
    },
    "accelerator": "GPU"
  },
  "nbformat": 4,
  "nbformat_minor": 5
}